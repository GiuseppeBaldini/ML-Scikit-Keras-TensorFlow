{
 "cells": [
  {
   "cell_type": "markdown",
   "metadata": {},
   "source": [
    "# 12. Custom Models and Training with TensorFlow"
   ]
  },
  {
   "cell_type": "markdown",
   "metadata": {},
   "source": [
    "After introducing Keras high-level API, which will be good for most of our everyday use cases. In this chapter we will dive deeper in the lower level API.\n",
    "\n",
    "This Chapter uses TF2. "
   ]
  },
  {
   "cell_type": "markdown",
   "metadata": {},
   "source": [
    "### Quick tour of TensorFlow\n",
    "\n",
    "Here is a summary of what TensorFlow offers:\n",
    "\n",
    "* Core similar to NumPy but with GPU support\n",
    "* Distributed computing support\n",
    "* Just-in-time (JIT) compiler that allows it to optimize computations for speed and memory usage. It works by: \n",
    "    1. Extracting **computation graph** from Py function\n",
    "    2. Optimizing it (e.g., by pruning unused nodes)\n",
    "    3. Running it efficiently (e.g., by automatically running independent operations in parallel)\n",
    "* Exportable computation graph, potentially allowing to train in an env and run in another\n",
    "* "
   ]
  },
  {
   "cell_type": "code",
   "execution_count": null,
   "metadata": {},
   "outputs": [],
   "source": []
  }
 ],
 "metadata": {
  "kernelspec": {
   "display_name": "Python 3",
   "language": "python",
   "name": "python3"
  },
  "language_info": {
   "codemirror_mode": {
    "name": "ipython",
    "version": 3
   },
   "file_extension": ".py",
   "mimetype": "text/x-python",
   "name": "python",
   "nbconvert_exporter": "python",
   "pygments_lexer": "ipython3",
   "version": "3.7.4"
  }
 },
 "nbformat": 4,
 "nbformat_minor": 4
}
