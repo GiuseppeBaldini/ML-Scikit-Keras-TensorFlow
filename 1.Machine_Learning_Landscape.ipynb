{
 "cells": [
  {
   "cell_type": "markdown",
   "metadata": {},
   "source": [
    "# 1. Machine Learning Landscape"
   ]
  },
  {
   "cell_type": "markdown",
   "metadata": {},
   "source": [
    "This book will feature three production-ready Python frameworks:\n",
    "\n",
    "1. **Scikit-learn** - easy to use and efficient in implementation (*ideal as entry point*)\n",
    "2. **TensorFlow** - more complex library for distributed numerical computation (*ideal for large scale implementations*)\n",
    "3. **Keras** - high level Deep Learning API (*use on top of TensorFlow, Theano or Microsoft Cognitive Toolkit*) "
   ]
  },
  {
   "cell_type": "markdown",
   "metadata": {},
   "source": []
  }
 ],
 "metadata": {
  "kernelspec": {
   "display_name": "Python 3",
   "language": "python",
   "name": "python3"
  },
  "language_info": {
   "codemirror_mode": {
    "name": "ipython",
    "version": 3
   },
   "file_extension": ".py",
   "mimetype": "text/x-python",
   "name": "python",
   "nbconvert_exporter": "python",
   "pygments_lexer": "ipython3",
   "version": "3.6.1"
  }
 },
 "nbformat": 4,
 "nbformat_minor": 2
}
