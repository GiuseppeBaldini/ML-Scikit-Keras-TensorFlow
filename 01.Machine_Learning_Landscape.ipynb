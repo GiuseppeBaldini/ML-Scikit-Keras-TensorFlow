{
 "cells": [
  {
   "cell_type": "markdown",
   "metadata": {},
   "source": [
    "# 1. Machine Learning Landscape"
   ]
  },
  {
   "cell_type": "markdown",
   "metadata": {},
   "source": [
    "This book will feature three production-ready Python frameworks:\n",
    "\n",
    "1. **Scikit-learn** - easy to use and efficient in implementation (*ideal as entry point*)\n",
    "2. **TensorFlow** - more complex library for distributed numerical computation (*ideal for large scale implementations*)\n",
    "3. **Keras** - high level Deep Learning API (*use on top of TensorFlow, Theano or Microsoft Cognitive Toolkit*) "
   ]
  },
  {
   "cell_type": "markdown",
   "metadata": {},
   "source": [
    "A working definition for Machine Learning is given by Tom Mitchell in 1997:\n",
    "\n",
    "_\"A computer program is said to learn from experience E with respect to some task T\n",
    "and some performance measure P, if its performance on T, as measured by P, improves\n",
    "with experience E.\"_"
   ]
  },
  {
   "cell_type": "markdown",
   "metadata": {},
   "source": [
    "**Note**: Applying ML techniques to dig into large amounts of data to discover patterns that were not immediately apparent is **data mining**."
   ]
  },
  {
   "cell_type": "markdown",
   "metadata": {},
   "source": [
    "### Classification of algorithms"
   ]
  },
  {
   "cell_type": "markdown",
   "metadata": {},
   "source": [
    "It is useful to classify ML algorithms according to:\n",
    "\n",
    "1. Use of human supervision (supervised - unsupervised - semisupervised - reinforcement)\n",
    "2. Possibility to learn incrementally (batch vs. online)\n",
    "3. Simply compare new data points to known data points or detect patterns and build a predictive model (instance-based versus model-based learning)"
   ]
  },
  {
   "cell_type": "markdown",
   "metadata": {},
   "source": [
    "### Data\n",
    "\n",
    "Quoting the authors of a seminal [paper](http://delivery.acm.org/10.1145/1080000/1073017/p26-banko.pdf?ip=114.250.152.226&id=1073017&acc=OPEN&key=4D4702B0C3E38B35%2E4D4702B0C3E38B35%2E4D4702B0C3E38B35%2E6D218144511F3437&__acm__=1566022014_f658a82c6c95cd915a402a5185bff103) on the nature of the relationship between algorithms and amount of data (what they call _corpora_):   \n",
    "_\"[..] we may want to reconsider the trade-off between spending time and money on algorithm development versus spending it on corpus development.”_"
   ]
  },
  {
   "cell_type": "markdown",
   "metadata": {},
   "source": [
    "![Data](Images/1.1.Test_accuracy_vs_Dataset_size.jpg)"
   ]
  },
  {
   "cell_type": "markdown",
   "metadata": {},
   "source": [
    "_Michele Banko and Eric Brill (Microsoft, 2001)_"
   ]
  },
  {
   "cell_type": "markdown",
   "metadata": {},
   "source": [
    "Peter Norvig expanded this idea further in its paper titled [\"The unreasonable effectiveness of data\"](https://research.google.com/pubs/archive/35179.pdf) (2009)."
   ]
  },
  {
   "cell_type": "markdown",
   "metadata": {},
   "source": [
    "#### Features\n",
    "\n",
    "Garbage in. Garbage out. In order to learn effectively, we need relevant features. This can be accomplished by:\n",
    "\n",
    "* **Feature selection**: selecting the most useful features to train on among existing features;  \n",
    "* **Feature extraction**: combining existing features to produce a more useful one (as we saw earlier, dimensionality reduction algorithms can help);  \n",
    "* **Feature building**: creating new features by gathering new data"
   ]
  }
 ],
 "metadata": {
  "kernelspec": {
   "display_name": "Python 3",
   "language": "python",
   "name": "python3"
  },
  "language_info": {
   "codemirror_mode": {
    "name": "ipython",
    "version": 3
   },
   "file_extension": ".py",
   "mimetype": "text/x-python",
   "name": "python",
   "nbconvert_exporter": "python",
   "pygments_lexer": "ipython3",
   "version": "3.7.4"
  }
 },
 "nbformat": 4,
 "nbformat_minor": 4
}
