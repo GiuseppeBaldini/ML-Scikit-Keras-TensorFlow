{
 "cells": [
  {
   "cell_type": "markdown",
   "metadata": {},
   "source": [
    "### Part II. Neural Networks and Deep Learning"
   ]
  },
  {
   "cell_type": "markdown",
   "metadata": {},
   "source": [
    "# 10. Introduction to Artificial Neural Networks with Keras"
   ]
  },
  {
   "cell_type": "markdown",
   "metadata": {},
   "source": [
    "Artificial Neural Networks (ANN) is a Machine Learning model inspired by the networks of biological neurons found in our brains.  \n",
    "\n",
    "Although they draw from our biological brains, they have slightly evolved to be somehow different."
   ]
  },
  {
   "cell_type": "markdown",
   "metadata": {},
   "source": [
    "### Why is it different this time?"
   ]
  },
  {
   "cell_type": "markdown",
   "metadata": {},
   "source": [
    "ANNs have been around for quite some time, with efforts going back to a seminal paper by McCulloch and Pitts (1943). However, after a long winter started in the 1960s they seem to be back in town as the cool kid. \n",
    "\n",
    "Why would this time be different? According to the author:\n",
    "\n",
    "**1. Data quantity**, which allows ANNs to perform traditional ML on large and complex problems\n",
    "\n",
    "**2. Computing power**, thanks to Moore's Law, the gaming industry (for GPUs) and cloud computing \n",
    "\n",
    "**3. Improved algorithms** (not that different from 1990s, but those differences had huge impact)\n",
    "\n",
    "**4. Theoretical limitations** (e.g. getting stuck in local optima) are **rather rare** in practice, or **not as serious** as previously thought\n",
    "\n",
    "**5. Virtual cycle** of applications > reaserch + funding > more and better applications"
   ]
  },
  {
   "cell_type": "markdown",
   "metadata": {},
   "source": [
    "### Logical Computations with Neurons\n",
    "\n",
    "_**Note**: Skipping the part on biological neurons_"
   ]
  },
  {
   "cell_type": "markdown",
   "metadata": {},
   "source": [
    "McCulloch and Pitts proposed a simple model of the biological neuron later known as an **artificial neuron** characterized by one or more binary inputs and one binary output. \n",
    "\n",
    "Even with this simple neuron, it is possible to build an ANN that computes any logical proposition:"
   ]
  },
  {
   "cell_type": "markdown",
   "metadata": {},
   "source": [
    "![ANN](images/10.ANN.png)"
   ]
  },
  {
   "cell_type": "markdown",
   "metadata": {},
   "source": [
    "Assuming an activation threshold of two, we can see from the picture above how this could work. "
   ]
  },
  {
   "cell_type": "markdown",
   "metadata": {},
   "source": [
    "### The Perceptron"
   ]
  },
  {
   "cell_type": "markdown",
   "metadata": {},
   "source": [
    "The next step in complexity is the _Perceptron_. Invented in 1957 by Frank Rosenblatt, it is based on an artificial neuron called a _threshold logic unit_ (TLU) / _linear threshold unit_ (LTU). Inputs and outputs are numbers and each input is connected with a weight.\n",
    "\n",
    "TLU computes a weighted sum and then applies a step function to the sum:\n",
    "\n",
    "1. $z = w_1x_1 + w_2n_2 + \\cdots + w_nx_n = x^tw$\n",
    "\n",
    "2. $h_w(x) = step(z) = step(x^tw)$"
   ]
  },
  {
   "cell_type": "markdown",
   "metadata": {},
   "source": [
    "![Threshold Logic Unit](images/10.TLU.png)"
   ]
  },
  {
   "cell_type": "markdown",
   "metadata": {},
   "source": [
    "Two common step functions used in Perceptrons:\n",
    "\n",
    "1. Heaviside (z) $ = \\begin{cases}\n",
    "0 & z < 0\\\\\n",
    "1 & z \\ge 0\n",
    "\\end{cases}$\n",
    "\n",
    "2. Sign (z) $ = \\begin{cases}\n",
    "-1 & z < 0 \\\\\n",
    "0 & z = 0 \\\\\n",
    "+1 & z > 0\n",
    "\\end{cases}$"
   ]
  },
  {
   "cell_type": "markdown",
   "metadata": {},
   "source": [
    "A single TLU can be used for linear binary classification (using a threshold, similarly to LogReg or SVM).  \n",
    "A Perceptron is simply a single layer of TLUs, with each TLU connected to all the inputs. Having multiple output TLU makes possible to perform multioutput classification. "
   ]
  },
  {
   "cell_type": "markdown",
   "metadata": {},
   "source": [
    "It is then possible to compute the outputs of a layer of artificial neurons for several instances at once:\n",
    "\n",
    "$h_{W,b} (X) = \\phi (XW + b)$"
   ]
  },
  {
   "cell_type": "markdown",
   "metadata": {},
   "source": [
    "$X$ = matrix of input features  \n",
    "\n",
    "$W$ = weights of neurons (expept bias). One row per input neuron and one col for artificial neuron. \n",
    "\n",
    "$b$ = vector containing all the connection weights between the bias neuron and the artificial neurons. It has one bias term per artificial neuron.\n",
    "\n",
    "$\\phi$ = activation function. In our case (artificial neuron = TLU), the activation function is a step function."
   ]
  },
  {
   "cell_type": "markdown",
   "metadata": {},
   "source": [
    "#### Training\n",
    "\n",
    "The Perceptron is then trained reinforcing connections that help **reduce the error**. \n",
    "\n",
    "More specifically, the Perceptron is fed one training instance at a time, and for each instance it makes its predictions. For every output neuron that produced a wrong prediction, it reinforces the connection weights from the inputs that would have contributed to the correct prediction."
   ]
  },
  {
   "cell_type": "markdown",
   "metadata": {},
   "source": [
    "More formally:\n",
    "\n",
    "$w_{i,y}^{(next step)} = w_{i,y} + \\eta (y_j - \\hat{y}_j)x_i $ "
   ]
  },
  {
   "cell_type": "markdown",
   "metadata": {},
   "source": [
    "* $w_{i,y}$ = connection weight between $i^{th}$ input neuron and $j^{th}$ output neuron\n",
    "\n",
    "* $x_i$ is the $i^{th}$ input value of the current training instance\n",
    "\n",
    "* $\\hat{y}_j$ is the output of the $j^{th}$ output neuron for the current training instance\n",
    "\n",
    "* $y_j$ is the target output of the $j^{th}$ output neuron for the current training instance\n",
    "\n",
    "* $\\eta$ is the learning rate"
   ]
  },
  {
   "cell_type": "markdown",
   "metadata": {},
   "source": [
    "**Note**: the Perceptron decision boundaries are linear, but as long as training instances are linearly separable, it will converge to a solution. "
   ]
  },
  {
   "cell_type": "markdown",
   "metadata": {},
   "source": [
    "#### Limitations"
   ]
  },
  {
   "cell_type": "markdown",
   "metadata": {},
   "source": [
    "The Perceptron is a fairly rudimentary ANN architecture, incapable for example to solve the exclusive or (XOR) classification problem. \n",
    "\n",
    "It turns out that some of the limitations of Perceptrons can be eliminated by stacking multiple Perceptrons: the resulting ANN is known as **Multilayer Perceptron (MLP)**. "
   ]
  },
  {
   "cell_type": "markdown",
   "metadata": {},
   "source": [
    "#### Multilayer Perceptron and Backpropagation\n",
    "\n"
   ]
  }
 ],
 "metadata": {
  "kernelspec": {
   "display_name": "Python 3",
   "language": "python",
   "name": "python3"
  },
  "language_info": {
   "codemirror_mode": {
    "name": "ipython",
    "version": 3
   },
   "file_extension": ".py",
   "mimetype": "text/x-python",
   "name": "python",
   "nbconvert_exporter": "python",
   "pygments_lexer": "ipython3",
   "version": "3.7.4"
  }
 },
 "nbformat": 4,
 "nbformat_minor": 4
}
