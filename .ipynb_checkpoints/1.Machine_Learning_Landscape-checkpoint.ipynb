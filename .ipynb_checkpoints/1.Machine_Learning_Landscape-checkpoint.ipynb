{
 "cells": [
  {
   "cell_type": "markdown",
   "metadata": {},
   "source": [
    "# 1. Machine Learning Landscape"
   ]
  },
  {
   "cell_type": "markdown",
   "metadata": {},
   "source": [
    "This book will feature three production-ready Python frameworks:\n",
    "\n",
    "1. **Scikit-learn** - easy to use and efficient in implementation (*ideal as entry point*)\n",
    "2. **TensorFlow** - more complex library for distributed numerical computation (*ideal for large scale implementations*)\n",
    "3. **Keras** - high level Deep Learning API (*use on top of TensorFlow, Theano or Microsoft Cognitive Toolkit*) "
   ]
  },
  {
   "cell_type": "markdown",
   "metadata": {},
   "source": [
    "A working definition for Machine Learning is given by Tom Mitchell in 1997:\n",
    "\n",
    "_\"A computer program is said to learn from experience E with respect to some task T\n",
    "and some performance measure P, if its performance on T, as measured by P, improves\n",
    "with experience E.\"_"
   ]
  },
  {
   "cell_type": "markdown",
   "metadata": {},
   "source": [
    "**Note**: Applying ML techniques to dig into large amounts of data to discover patterns that were not immediately apparent is **data mining**."
   ]
  },
  {
   "cell_type": "markdown",
   "metadata": {},
   "source": [
    "#### Classification of Machine Learning algorithms"
   ]
  },
  {
   "cell_type": "markdown",
   "metadata": {},
   "source": [
    "It is useful to classify ML algorithms according to:\n",
    "\n",
    "1. Use of human supervision (supervised - unsupervised - semisupervised - reinforcement)\n",
    "2. Possibility to learn incrementally (batch vs. online)\n",
    "3. Simply compare new data points to known data points or detect patterns and build a predictive model (instance-based versus model-based learning)"
   ]
  },
  {
   "cell_type": "markdown",
   "metadata": {},
   "source": []
  }
 ],
 "metadata": {
  "kernelspec": {
   "display_name": "Python 3",
   "language": "python",
   "name": "python3"
  },
  "language_info": {
   "codemirror_mode": {
    "name": "ipython",
    "version": 3
   },
   "file_extension": ".py",
   "mimetype": "text/x-python",
   "name": "python",
   "nbconvert_exporter": "python",
   "pygments_lexer": "ipython3",
   "version": "3.6.1"
  }
 },
 "nbformat": 4,
 "nbformat_minor": 2
}
