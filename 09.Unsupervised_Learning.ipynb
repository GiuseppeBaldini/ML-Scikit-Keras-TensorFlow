{
 "cells": [
  {
   "cell_type": "markdown",
   "metadata": {},
   "source": [
    "# 9. Unsupervised Learning"
   ]
  },
  {
   "cell_type": "markdown",
   "metadata": {},
   "source": [
    "Although most applications today are in supervised learning, most of the data available is actually unlabeled. \n",
    "\n",
    "Here is where unsupervised learning shines. In this chapter, we will look at three unsupervised learning tasks:\n",
    "\n",
    "1. **Clustering**: group similar instances in classes\n",
    "2. **Anomaly detection**: learn what is normal data to detect abnormal instances\n",
    "3. **Density estimation**: estimating the probability density function (PDF) of the random process that generated the dataset"
   ]
  },
  {
   "cell_type": "markdown",
   "metadata": {},
   "source": [
    "### 1. Clustering\n",
    "\n",
    "Examples of clustering algorithms include:* \n",
    "\n",
    "* Segmentation\n",
    "* Data analysis\n",
    "* Dimensionality reduction\n",
    "* Anomaly detection\n",
    "* Semi-supervised learning\n",
    "* Search engines\n",
    "* Image compression\n",
    "\n",
    "Let's now look at two particular algorithms."
   ]
  },
  {
   "cell_type": "markdown",
   "metadata": {},
   "source": [
    "#### K-Means\n",
    "\n",
    "K-means is a relatively simple yet powerful algorithm that will try to find each cluster’s center and assign each instance to the closest cluster.\n",
    "\n",
    "Let's try it out on built-in blobs:"
   ]
  },
  {
   "cell_type": "code",
   "execution_count": 4,
   "metadata": {},
   "outputs": [],
   "source": [
    "from sklearn.datasets import make_blobs\n",
    "import numpy as np\n",
    "\n",
    "blob_centers = np.array(\n",
    "    [[ 0.2,  2.3],\n",
    "     [-1.5 ,  2.3],\n",
    "     [-2.8,  1.8],\n",
    "     [-2.8,  2.8],\n",
    "     [-2.8,  1.3]])\n",
    "blob_std = np.array([0.4, 0.3, 0.1, 0.1, 0.1])"
   ]
  },
  {
   "cell_type": "code",
   "execution_count": 5,
   "metadata": {},
   "outputs": [],
   "source": [
    "X, y = make_blobs(n_samples=2000, centers=blob_centers,\n",
    "                  cluster_std=blob_std, random_state=7)"
   ]
  },
  {
   "cell_type": "code",
   "execution_count": 6,
   "metadata": {},
   "outputs": [],
   "source": [
    "from sklearn.cluster import KMeans\n",
    "\n",
    "k = 5\n",
    "kmeans = KMeans(n_clusters=k)\n",
    "y_pred = kmeans.fit_predict(X)"
   ]
  },
  {
   "cell_type": "markdown",
   "metadata": {},
   "source": [
    "In the context of clustering, an instance’s label is the index of the cluster that this instance gets assigned to by the algorithm. "
   ]
  },
  {
   "cell_type": "code",
   "execution_count": 7,
   "metadata": {},
   "outputs": [
    {
     "data": {
      "text/plain": [
       "array([0, 4, 2, ..., 3, 2, 4])"
      ]
     },
     "execution_count": 7,
     "metadata": {},
     "output_type": "execute_result"
    }
   ],
   "source": [
    "y_pred"
   ]
  },
  {
   "cell_type": "code",
   "execution_count": 8,
   "metadata": {},
   "outputs": [
    {
     "data": {
      "text/plain": [
       "True"
      ]
     },
     "execution_count": 8,
     "metadata": {},
     "output_type": "execute_result"
    }
   ],
   "source": [
    "y_pred is kmeans.labels_"
   ]
  },
  {
   "cell_type": "markdown",
   "metadata": {},
   "source": [
    "We can also have a look at the centroids:"
   ]
  },
  {
   "cell_type": "markdown",
   "metadata": {},
   "source": [
    "##### kmeans.cluster_centers_"
   ]
  },
  {
   "cell_type": "markdown",
   "metadata": {},
   "source": [
    "And we can use them to quickly assign new instances:"
   ]
  },
  {
   "cell_type": "code",
   "execution_count": 10,
   "metadata": {},
   "outputs": [],
   "source": [
    "X_new = np.array([[0, 2], [3, 2], [-3, 3], [-3, 2.5]])"
   ]
  },
  {
   "cell_type": "code",
   "execution_count": 11,
   "metadata": {},
   "outputs": [
    {
     "data": {
      "text/plain": [
       "array([2, 2, 3, 3])"
      ]
     },
     "execution_count": 11,
     "metadata": {},
     "output_type": "execute_result"
    }
   ],
   "source": [
    "kmeans.predict(X_new)"
   ]
  },
  {
   "cell_type": "markdown",
   "metadata": {},
   "source": [
    "Instead of assigning each instance to a single cluster (**hard clustering**), it can be useful to just give each instance a score per cluster (**soft clustering**)."
   ]
  },
  {
   "cell_type": "markdown",
   "metadata": {},
   "source": [
    "#### K-means algorithm\n",
    "\n",
    "The algorithm works by initially placing clusters in a random position and iterating until convergence, which usually happens in few steps and linear computational complexity with regards to the number of instances _m_, the number of clusters _k_ and the number of dimensions _n_.\n",
    "\n",
    "However, guarantee of convergence is not guarantee of global optimum. Improving centroid initialization can therefore lead to better results."
   ]
  },
  {
   "cell_type": "markdown",
   "metadata": {},
   "source": [
    "We could do this by:\n",
    "\n",
    "1. Setting the centroids ourselves, usually after running a first random init iteration\n",
    "2. Run the algorithm multiple times with different random initializations and keep the best solution (the one with minimal _inertia_ - mean squared distance between each instance and its closest centroid)\n",
    "3. Use the K-means +/+ implementation which works by selecting centroids that are distance from one another\n",
    "\n",
    "The last option, developed by David Arthur and Sergei Vassilvitskii in 2006, is the default Scikit-learn implementation."
   ]
  },
  {
   "cell_type": "markdown",
   "metadata": {},
   "source": [
    "#### Accelerated K-means and Mini-batch K-means \n",
    "\n",
    "Another improvement to the algorithm was proposed by Charles Elkan in 2003 and take advantage of the triangle inequality ($AC ≤ AB + BC$) to reduce computation of the distances. This approach is used in the default implementation of Scikit-learn. \n",
    "\n",
    "To reduce storage requirements, in 2010 David Sculley proposed using mini-batches, speeding things up by 3-4 times.   \n",
    "Although the Mini-batch K-Means algorithm is much faster than the regular K-Means algorithm, its inertia is generally slightly worse, especially as $k$ increases. "
   ]
  },
  {
   "cell_type": "markdown",
   "metadata": {},
   "source": [
    "#### Finding the optimal numbers of clusters\n",
    "\n",
    "Unfortunately, inertia is not a good criteria for choosing $k$, so let's see a few others:\n",
    "\n",
    "1. A common approach is the **elbow rule**, which stems from the similarity of the inertia-k graph to a human arm. In this case, we would choose the $k$ which lies on the steepest change of slope (the _elbow_ of our _arm_)\n",
    "\n",
    "2. A more precise and computationally expensive method is to use the **silhouette score** (mean of the silhouette coefficient over all the instances). The coefficient varies from -1 to +1, where:\n",
    "* -1 = instance may have been assigned to the wrong cluster\n",
    "* 0 = instance close to cluster boundary\n",
    "* +1 = instance well inside cluster boundaries and far from other clusters\n",
    "\n",
    "**Note:** The silhouette coefficient is equal to: $\\frac{(b-a)}{max(a,b)}$ where \n",
    "$a$ = mean distanceto the other instances in the same cluster\n",
    "$b$ = mean distance to the instances of the next closest cluster"
   ]
  },
  {
   "cell_type": "markdown",
   "metadata": {},
   "source": [
    "#### Limits of K-means\n",
    "\n",
    "Despite its advantages (fast - scalable) K-means encounters strong limitations when it comes to clusters of varying sizes, densities, or non-spherical shapes. In addition, it may lead to suboptimal solutions due to initialization. \n",
    "\n",
    "**Note**: Scaling the inputs may help, but does not guarantee optimal results. "
   ]
  },
  {
   "cell_type": "markdown",
   "metadata": {},
   "source": [
    "#### Application: Preprocessing\n",
    "\n",
    "Clustering can be an efficient approach to dimensionality reduction, in particular as a preprocessing step before a supervised learning algorithm.\n",
    "\n",
    "For example, using MNIST:"
   ]
  },
  {
   "cell_type": "code",
   "execution_count": 12,
   "metadata": {},
   "outputs": [],
   "source": [
    "from sklearn.datasets import load_digits\n",
    "\n",
    "X_digits, y_digits = load_digits(return_X_y=True)"
   ]
  },
  {
   "cell_type": "code",
   "execution_count": 13,
   "metadata": {},
   "outputs": [],
   "source": [
    "# splitting in training and test sets\n",
    "from sklearn.model_selection import train_test_split\n",
    "\n",
    "X_train, X_test, y_train, y_test = train_test_split(X_digits, y_digits)"
   ]
  },
  {
   "cell_type": "code",
   "execution_count": 14,
   "metadata": {},
   "outputs": [
    {
     "name": "stderr",
     "output_type": "stream",
     "text": [
      "C:\\Users\\giuse\\Anaconda3\\lib\\site-packages\\sklearn\\linear_model\\logistic.py:432: FutureWarning: Default solver will be changed to 'lbfgs' in 0.22. Specify a solver to silence this warning.\n",
      "  FutureWarning)\n",
      "C:\\Users\\giuse\\Anaconda3\\lib\\site-packages\\sklearn\\linear_model\\logistic.py:469: FutureWarning: Default multi_class will be changed to 'auto' in 0.22. Specify the multi_class option to silence this warning.\n",
      "  \"this warning.\", FutureWarning)\n"
     ]
    },
    {
     "data": {
      "text/plain": [
       "LogisticRegression(C=1.0, class_weight=None, dual=False, fit_intercept=True,\n",
       "                   intercept_scaling=1, l1_ratio=None, max_iter=100,\n",
       "                   multi_class='warn', n_jobs=None, penalty='l2',\n",
       "                   random_state=42, solver='warn', tol=0.0001, verbose=0,\n",
       "                   warm_start=False)"
      ]
     },
     "execution_count": 14,
     "metadata": {},
     "output_type": "execute_result"
    }
   ],
   "source": [
    "# fitting logistic regression\n",
    "from sklearn.linear_model import LogisticRegression\n",
    "\n",
    "log_reg = LogisticRegression(random_state=42)\n",
    "log_reg.fit(X_train, y_train)"
   ]
  },
  {
   "cell_type": "code",
   "execution_count": 15,
   "metadata": {},
   "outputs": [
    {
     "data": {
      "text/plain": [
       "0.9555555555555556"
      ]
     },
     "execution_count": 15,
     "metadata": {},
     "output_type": "execute_result"
    }
   ],
   "source": [
    "# evaluate accuracy\n",
    "log_reg.score(X_test, y_test)"
   ]
  },
  {
   "cell_type": "markdown",
   "metadata": {},
   "source": [
    "95.5% baseline, not bad. Let’s see if we can do better by using K-Means as a preprocessing step. We will create a pipeline to cluster the training set in 50 clusters > replace the images with their distances to these 50 clusters > train our logistic regression."
   ]
  },
  {
   "cell_type": "code",
   "execution_count": null,
   "metadata": {},
   "outputs": [],
   "source": []
  },
  {
   "cell_type": "code",
   "execution_count": 16,
   "metadata": {},
   "outputs": [
    {
     "name": "stderr",
     "output_type": "stream",
     "text": [
      "C:\\Users\\giuse\\Anaconda3\\lib\\site-packages\\sklearn\\linear_model\\logistic.py:432: FutureWarning: Default solver will be changed to 'lbfgs' in 0.22. Specify a solver to silence this warning.\n",
      "  FutureWarning)\n",
      "C:\\Users\\giuse\\Anaconda3\\lib\\site-packages\\sklearn\\linear_model\\logistic.py:469: FutureWarning: Default multi_class will be changed to 'auto' in 0.22. Specify the multi_class option to silence this warning.\n",
      "  \"this warning.\", FutureWarning)\n"
     ]
    },
    {
     "data": {
      "text/plain": [
       "Pipeline(memory=None,\n",
       "         steps=[('kmeans',\n",
       "                 KMeans(algorithm='auto', copy_x=True, init='k-means++',\n",
       "                        max_iter=300, n_clusters=50, n_init=10, n_jobs=None,\n",
       "                        precompute_distances='auto', random_state=None,\n",
       "                        tol=0.0001, verbose=0)),\n",
       "                ('log_reg',\n",
       "                 LogisticRegression(C=1.0, class_weight=None, dual=False,\n",
       "                                    fit_intercept=True, intercept_scaling=1,\n",
       "                                    l1_ratio=None, max_iter=100,\n",
       "                                    multi_class='warn', n_jobs=None,\n",
       "                                    penalty='l2', random_state=None,\n",
       "                                    solver='warn', tol=0.0001, verbose=0,\n",
       "                                    warm_start=False))],\n",
       "         verbose=False)"
      ]
     },
     "execution_count": 16,
     "metadata": {},
     "output_type": "execute_result"
    }
   ],
   "source": [
    "from sklearn.pipeline import Pipeline\n",
    "\n",
    "pipeline = Pipeline([\n",
    "(\"kmeans\", KMeans(n_clusters=50)),\n",
    "(\"log_reg\", LogisticRegression()),\n",
    "])\n",
    "\n",
    "pipeline.fit(X_train, y_train)"
   ]
  },
  {
   "cell_type": "code",
   "execution_count": 17,
   "metadata": {},
   "outputs": [
    {
     "data": {
      "text/plain": [
       "0.9777777777777777"
      ]
     },
     "execution_count": 17,
     "metadata": {},
     "output_type": "execute_result"
    }
   ],
   "source": [
    "pipeline.score(X_test, y_test)"
   ]
  },
  {
   "cell_type": "markdown",
   "metadata": {},
   "source": [
    "We already basically halved our error, and we did so by choosing $k$ arbitrarily. Let’s use `GridSearchCV` to find the optimal number of clusters:"
   ]
  },
  {
   "cell_type": "code",
   "execution_count": 22,
   "metadata": {},
   "outputs": [
    {
     "name": "stderr",
     "output_type": "stream",
     "text": [
      "UsageError: Line magic function `%%capture` not found.\n"
     ]
    }
   ],
   "source": [
    "from sklearn.model_selection import GridSearchCV\n",
    "\n",
    "# suppressing output \n",
    "%%capture\n",
    "param_grid = dict(kmeans__n_clusters=range(2, 100))\n",
    "grid_clf = GridSearchCV(pipeline, param_grid, cv=3, verbose=2)\n",
    "grid_clf.fit(X_train, y_train)"
   ]
  },
  {
   "cell_type": "code",
   "execution_count": 23,
   "metadata": {},
   "outputs": [
    {
     "data": {
      "text/plain": [
       "{'kmeans__n_clusters': 57}"
      ]
     },
     "execution_count": 23,
     "metadata": {},
     "output_type": "execute_result"
    }
   ],
   "source": [
    "# best value of k\n",
    "grid_clf.best_params_"
   ]
  },
  {
   "cell_type": "code",
   "execution_count": 24,
   "metadata": {},
   "outputs": [
    {
     "data": {
      "text/plain": [
       "0.9777777777777777"
      ]
     },
     "execution_count": 24,
     "metadata": {},
     "output_type": "execute_result"
    }
   ],
   "source": [
    "grid_clf.score(X_test, y_test)"
   ]
  },
  {
   "cell_type": "markdown",
   "metadata": {},
   "source": [
    "Final accuracy: 97.7% "
   ]
  },
  {
   "cell_type": "markdown",
   "metadata": {},
   "source": [
    "#### Application: Semi-Supervised learning\n",
    "\n",
    "Another useful application of clustering is semi-supervised learning, when we have plenty of unlabeled instances and very few labeled instances. For example, let's train a logistic regression on 50 labeled instances:"
   ]
  },
  {
   "cell_type": "code",
   "execution_count": 25,
   "metadata": {},
   "outputs": [
    {
     "name": "stderr",
     "output_type": "stream",
     "text": [
      "C:\\Users\\giuse\\Anaconda3\\lib\\site-packages\\sklearn\\linear_model\\logistic.py:432: FutureWarning: Default solver will be changed to 'lbfgs' in 0.22. Specify a solver to silence this warning.\n",
      "  FutureWarning)\n",
      "C:\\Users\\giuse\\Anaconda3\\lib\\site-packages\\sklearn\\linear_model\\logistic.py:469: FutureWarning: Default multi_class will be changed to 'auto' in 0.22. Specify the multi_class option to silence this warning.\n",
      "  \"this warning.\", FutureWarning)\n"
     ]
    },
    {
     "data": {
      "text/plain": [
       "LogisticRegression(C=1.0, class_weight=None, dual=False, fit_intercept=True,\n",
       "                   intercept_scaling=1, l1_ratio=None, max_iter=100,\n",
       "                   multi_class='warn', n_jobs=None, penalty='l2',\n",
       "                   random_state=None, solver='warn', tol=0.0001, verbose=0,\n",
       "                   warm_start=False)"
      ]
     },
     "execution_count": 25,
     "metadata": {},
     "output_type": "execute_result"
    }
   ],
   "source": [
    "n_labeled = 50\n",
    "log_reg = LogisticRegression()\n",
    "log_reg.fit(X_train[:n_labeled], y_train[:n_labeled])"
   ]
  },
  {
   "cell_type": "code",
   "execution_count": 26,
   "metadata": {},
   "outputs": [
    {
     "data": {
      "text/plain": [
       "0.8155555555555556"
      ]
     },
     "execution_count": 26,
     "metadata": {},
     "output_type": "execute_result"
    }
   ],
   "source": [
    "log_reg.score(X_test, y_test)"
   ]
  },
  {
   "cell_type": "markdown",
   "metadata": {},
   "source": [
    "Not great, as we would expect. Let's now cluster the training set in 50 clusters, then find the image closest to the centroid (**representative images**):"
   ]
  },
  {
   "cell_type": "code",
   "execution_count": 27,
   "metadata": {},
   "outputs": [],
   "source": [
    "k = 50\n",
    "kmeans = KMeans(n_clusters=k)\n",
    "X_digits_dist = kmeans.fit_transform(X_train)\n",
    "representative_digit_idx = np.argmin(X_digits_dist, axis=0)\n",
    "X_representative_digits = X_train[representative_digit_idx]"
   ]
  },
  {
   "cell_type": "markdown",
   "metadata": {},
   "source": [
    "Let's plot these representative images:"
   ]
  },
  {
   "cell_type": "code",
   "execution_count": 30,
   "metadata": {},
   "outputs": [
    {
     "data": {
      "image/png": "[encoded data removed]",
      "text/plain": [
       "<Figure size 576x144 with 50 Axes>"
      ]
     },
     "metadata": {
      "needs_background": "light"
     },
     "output_type": "display_data"
    }
   ],
   "source": [
    "import matplotlib as mpl\n",
    "import matplotlib.pyplot as plt\n",
    "\n",
    "plt.figure(figsize=(8, 2))\n",
    "for index, X_representative_digit in enumerate(X_representative_digits):\n",
    "    plt.subplot(k // 10, 10, index + 1)\n",
    "    plt.imshow(X_representative_digit.reshape(8, 8), cmap=\"binary\", interpolation=\"bilinear\")\n",
    "    plt.axis('off')\n",
    "\n",
    "plt.show()"
   ]
  },
  {
   "cell_type": "markdown",
   "metadata": {},
   "source": [
    "And manually label them:"
   ]
  },
  {
   "cell_type": "code",
   "execution_count": 31,
   "metadata": {},
   "outputs": [],
   "source": [
    "y_representative_digits = np.array([3, 6, 7, 0, 2, 5, 8, 4, 8, 5, \n",
    "                                    3, 1, 6, 7, 1, 7, 0, 1, 3, 9,\n",
    "                                    7, 9, 8, 5, 2, 7, 4, 1, 2, 4,\n",
    "                                    3, 4, 2, 8, 6, 5, 3, 9, 9, 8, \n",
    "                                    5, 0, 2, 9, 8, 7, 4, 7, 7, 4])"
   ]
  },
  {
   "cell_type": "markdown",
   "metadata": {},
   "source": [
    "Let's see if our overall performance increased:"
   ]
  },
  {
   "cell_type": "code",
   "execution_count": 32,
   "metadata": {},
   "outputs": [],
   "source": [
    "log_reg = LogisticRegression()"
   ]
  },
  {
   "cell_type": "code",
   "execution_count": 33,
   "metadata": {},
   "outputs": [
    {
     "name": "stderr",
     "output_type": "stream",
     "text": [
      "C:\\Users\\giuse\\Anaconda3\\lib\\site-packages\\sklearn\\linear_model\\logistic.py:432: FutureWarning: Default solver will be changed to 'lbfgs' in 0.22. Specify a solver to silence this warning.\n",
      "  FutureWarning)\n",
      "C:\\Users\\giuse\\Anaconda3\\lib\\site-packages\\sklearn\\linear_model\\logistic.py:469: FutureWarning: Default multi_class will be changed to 'auto' in 0.22. Specify the multi_class option to silence this warning.\n",
      "  \"this warning.\", FutureWarning)\n"
     ]
    },
    {
     "data": {
      "text/plain": [
       "LogisticRegression(C=1.0, class_weight=None, dual=False, fit_intercept=True,\n",
       "                   intercept_scaling=1, l1_ratio=None, max_iter=100,\n",
       "                   multi_class='warn', n_jobs=None, penalty='l2',\n",
       "                   random_state=None, solver='warn', tol=0.0001, verbose=0,\n",
       "                   warm_start=False)"
      ]
     },
     "execution_count": 33,
     "metadata": {},
     "output_type": "execute_result"
    }
   ],
   "source": [
    "log_reg.fit(X_representative_digits, y_representative_digits)"
   ]
  },
  {
   "cell_type": "code",
   "execution_count": 34,
   "metadata": {},
   "outputs": [
    {
     "data": {
      "text/plain": [
       "0.9111111111111111"
      ]
     },
     "execution_count": 34,
     "metadata": {},
     "output_type": "execute_result"
    }
   ],
   "source": [
    "log_reg.score(X_test, y_test)"
   ]
  },
  {
   "cell_type": "markdown",
   "metadata": {},
   "source": [
    "Great! Almost a 10% improvement. Let's go further by extending our labels to all the instances in the same cluster (**label propagation**):"
   ]
  },
  {
   "cell_type": "code",
   "execution_count": 35,
   "metadata": {},
   "outputs": [],
   "source": [
    "y_train_propagated = np.empty(len(X_train), dtype=np.int32)\n",
    "for i in range(k):\n",
    "    y_train_propagated[kmeans.labels_==i] = y_representative_digits[i]"
   ]
  },
  {
   "cell_type": "code",
   "execution_count": 36,
   "metadata": {},
   "outputs": [],
   "source": [
    "log_reg = LogisticRegression()"
   ]
  },
  {
   "cell_type": "code",
   "execution_count": 37,
   "metadata": {},
   "outputs": [
    {
     "name": "stderr",
     "output_type": "stream",
     "text": [
      "C:\\Users\\giuse\\Anaconda3\\lib\\site-packages\\sklearn\\linear_model\\logistic.py:432: FutureWarning: Default solver will be changed to 'lbfgs' in 0.22. Specify a solver to silence this warning.\n",
      "  FutureWarning)\n",
      "C:\\Users\\giuse\\Anaconda3\\lib\\site-packages\\sklearn\\linear_model\\logistic.py:469: FutureWarning: Default multi_class will be changed to 'auto' in 0.22. Specify the multi_class option to silence this warning.\n",
      "  \"this warning.\", FutureWarning)\n"
     ]
    },
    {
     "data": {
      "text/plain": [
       "LogisticRegression(C=1.0, class_weight=None, dual=False, fit_intercept=True,\n",
       "                   intercept_scaling=1, l1_ratio=None, max_iter=100,\n",
       "                   multi_class='warn', n_jobs=None, penalty='l2',\n",
       "                   random_state=None, solver='warn', tol=0.0001, verbose=0,\n",
       "                   warm_start=False)"
      ]
     },
     "execution_count": 37,
     "metadata": {},
     "output_type": "execute_result"
    }
   ],
   "source": [
    "log_reg.fit(X_train, y_train_propagated)"
   ]
  },
  {
   "cell_type": "code",
   "execution_count": 38,
   "metadata": {},
   "outputs": [
    {
     "data": {
      "text/plain": [
       "0.8955555555555555"
      ]
     },
     "execution_count": 38,
     "metadata": {},
     "output_type": "execute_result"
    }
   ],
   "source": [
    "log_reg.score(X_test, y_test)"
   ]
  },
  {
   "cell_type": "markdown",
   "metadata": {},
   "source": [
    "Our accuracy dropped, why? Most likely this is due to the instances at the margins. Let’s see what happens if we only propagate the labels to the 5% of the instances that are closest to the centroids:"
   ]
  },
  {
   "cell_type": "code",
   "execution_count": 60,
   "metadata": {},
   "outputs": [],
   "source": [
    "percentile_closest = 5\n",
    "\n",
    "X_cluster_dist = X_digits_dist[np.arange(len(X_train)), kmeans.labels_]\n",
    "\n",
    "for i in range(k):\n",
    "    in_cluster = (kmeans.labels_ == i)\n",
    "    cluster_dist = X_cluster_dist[in_cluster]\n",
    "    cutoff_distance = np.percentile(cluster_dist, percentile_closest)\n",
    "    above_cutoff = (X_cluster_dist > cutoff_distance)\n",
    "    X_cluster_dist[in_cluster & above_cutoff] = -1\n",
    "    \n",
    "partially_propagated = (X_cluster_dist != -1)\n",
    "X_train_partially_propagated = X_train[partially_propagated]\n",
    "y_train_partially_propagated = y_train_propagated[partially_propagated]"
   ]
  },
  {
   "cell_type": "code",
   "execution_count": 61,
   "metadata": {},
   "outputs": [],
   "source": [
    "log_reg = LogisticRegression()"
   ]
  },
  {
   "cell_type": "code",
   "execution_count": 62,
   "metadata": {},
   "outputs": [
    {
     "name": "stderr",
     "output_type": "stream",
     "text": [
      "C:\\Users\\giuse\\Anaconda3\\lib\\site-packages\\sklearn\\linear_model\\logistic.py:432: FutureWarning: Default solver will be changed to 'lbfgs' in 0.22. Specify a solver to silence this warning.\n",
      "  FutureWarning)\n",
      "C:\\Users\\giuse\\Anaconda3\\lib\\site-packages\\sklearn\\linear_model\\logistic.py:469: FutureWarning: Default multi_class will be changed to 'auto' in 0.22. Specify the multi_class option to silence this warning.\n",
      "  \"this warning.\", FutureWarning)\n"
     ]
    },
    {
     "data": {
      "text/plain": [
       "LogisticRegression(C=1.0, class_weight=None, dual=False, fit_intercept=True,\n",
       "                   intercept_scaling=1, l1_ratio=None, max_iter=100,\n",
       "                   multi_class='warn', n_jobs=None, penalty='l2',\n",
       "                   random_state=None, solver='warn', tol=0.0001, verbose=0,\n",
       "                   warm_start=False)"
      ]
     },
     "execution_count": 62,
     "metadata": {},
     "output_type": "execute_result"
    }
   ],
   "source": [
    "log_reg.fit(X_train_partially_propagated, y_train_partially_propagated)"
   ]
  },
  {
   "cell_type": "code",
   "execution_count": 64,
   "metadata": {},
   "outputs": [
    {
     "data": {
      "text/plain": [
       "0.8977777777777778"
      ]
     },
     "execution_count": 64,
     "metadata": {},
     "output_type": "execute_result"
    }
   ],
   "source": [
    "log_reg.score(X_test, y_test)"
   ]
  },
  {
   "cell_type": "markdown",
   "metadata": {},
   "source": [
    "A slight improvement due to the very high accuracy of the partially propagated labels:"
   ]
  },
  {
   "cell_type": "code",
   "execution_count": 66,
   "metadata": {},
   "outputs": [
    {
     "data": {
      "text/plain": [
       "0.967391304347826"
      ]
     },
     "execution_count": 66,
     "metadata": {},
     "output_type": "execute_result"
    }
   ],
   "source": [
    "np.mean(y_train_partially_propagated == y_train[partially_propagated])"
   ]
  },
  {
   "cell_type": "markdown",
   "metadata": {},
   "source": [
    "#### Active learning\n",
    "\n",
    "In uncertain situations, little human help can greatly improve our results. This is called active learning, and its most common strategy **uncertainty sampling**: \n",
    "\n",
    "1. Model is trained on the labeled instances gathered so far, and this model is used to make predictions on all the unlabeled instances\n",
    "2. Instances for which the model is most uncertain (i.e., when its estimated probability is lowest) must be labeled by the human expert\n",
    "3. Iterate this process again and again, until the performance improvement stops being worth the labeling effort\n",
    "\n",
    "Other strategies may label instances that cause:\n",
    "\n",
    "* Largest model change\n",
    "* Largest drop in validation error\n",
    "* Increase in _agreement_ among different models"
   ]
  },
  {
   "cell_type": "markdown",
   "metadata": {},
   "source": [
    "### DBSCAN (Density-Based Spatial Clustering of Applications with Noise)"
   ]
  },
  {
   "cell_type": "markdown",
   "metadata": {},
   "source": [
    "This algorithm defines clusters as continuous regions of high density by:\n",
    "\n",
    "1. Counting how many instances are located within a small distance $\\epsilon$ from it ($\\epsilon$-neighbourhood)\n",
    "2. If an instance has at least min_samples instances in its ε-neighborhood (including itself), then it is considered a **core instance**. In other words, core instances are those that are located in **dense regions**\n",
    "3. All instances in the neighborhood of a core instance belong to the same cluster. This may include other core instances, therefore a long sequence of neighboring core instances forms a single cluster.\n",
    "4. Any instance that is not a core instance and does not have one in its neighborhood is considered an **anomaly**."
   ]
  },
  {
   "cell_type": "markdown",
   "metadata": {},
   "source": [
    "Let's see how it works on the moon dataset:"
   ]
  },
  {
   "cell_type": "code",
   "execution_count": 67,
   "metadata": {},
   "outputs": [
    {
     "data": {
      "text/plain": [
       "DBSCAN(algorithm='auto', eps=0.05, leaf_size=30, metric='euclidean',\n",
       "       metric_params=None, min_samples=5, n_jobs=None, p=None)"
      ]
     },
     "execution_count": 67,
     "metadata": {},
     "output_type": "execute_result"
    }
   ],
   "source": [
    "from sklearn.cluster import DBSCAN\n",
    "from sklearn.datasets import make_moons\n",
    "\n",
    "X, y = make_moons(n_samples=1000, noise=0.05)\n",
    "dbscan = DBSCAN(eps=0.05, min_samples=5)\n",
    "dbscan.fit(X)"
   ]
  },
  {
   "cell_type": "code",
   "execution_count": 68,
   "metadata": {},
   "outputs": [
    {
     "data": {
      "text/plain": [
       "array([ 3,  0,  1, -1, -1,  2,  1,  2,  1,  3,  3,  3,  1,  4,  3,  1,  3,\n",
       "        1, -1,  0,  2,  3,  2,  0,  1, -1,  3,  3, -1, -1,  2,  0,  3,  0,\n",
       "        3,  2,  3,  1,  2,  3,  5,  1,  3,  3,  1,  1,  0,  1,  1,  1,  1,\n",
       "        0,  1,  3,  3, -1, -1,  5,  3,  3, -1,  1,  1,  6,  1,  3,  0,  3,\n",
       "        0,  1,  3,  6,  0,  3,  1,  3,  3,  1,  2,  2,  0,  0,  0,  1,  3,\n",
       "        1,  0,  3,  3,  1,  1,  1,  1,  1,  1,  0,  2,  1,  2, -1,  3,  1,\n",
       "        2,  0,  2,  5, -1, -1, -1,  0,  1,  3,  2,  3,  6,  0,  1,  3,  1,\n",
       "        4,  3,  3,  1,  2,  1,  0,  0,  3,  2, -1,  0,  1,  2,  1,  0,  2,\n",
       "        1,  3,  3,  0,  2,  3,  2,  2,  2,  1,  0,  3,  2,  0,  3,  1,  1,\n",
       "        1, -1,  1,  3,  0,  3,  3,  1,  1,  2,  2,  1,  3,  0,  3,  4,  1,\n",
       "        3,  1,  3,  2,  2,  3,  1,  1,  2,  4,  1, -1,  3,  0,  0,  0,  3,\n",
       "        0,  0,  3,  1,  0,  3,  2,  0,  0, -1,  3,  3,  1,  3,  1,  3,  3,\n",
       "        1,  5,  2,  3,  1, -1,  1,  0,  3,  3,  3,  3,  1, -1,  2,  2,  0,\n",
       "        3,  3,  1, -1,  3,  1,  0,  2,  1,  0,  1,  3,  1,  1,  1,  3,  2,\n",
       "        1,  3,  2, -1,  4,  3, -1,  3,  1,  2,  0,  3,  1,  2,  2,  3,  3,\n",
       "        3, -1,  2,  1,  2,  3,  1,  0, -1,  3,  1,  2,  0,  1,  3, -1,  2,\n",
       "        1,  3,  3,  3,  2,  2,  3,  3,  1,  3,  0,  0,  0,  3,  3,  1,  1,\n",
       "        3,  1,  0,  0,  2,  1,  0,  2,  3,  2, -1, -1,  3,  3,  3,  6,  1,\n",
       "        1,  1,  1,  0,  1,  0,  3,  3,  1, -1,  1,  5,  2,  2,  1,  0,  3,\n",
       "        1,  1,  6,  0,  3,  3,  3,  0,  0,  4,  1,  2,  3,  0,  3,  1,  2,\n",
       "        0,  2,  0,  0,  4,  1,  3,  1,  1,  1,  3,  1,  0,  2,  3,  1,  1,\n",
       "        1,  0,  1,  1,  1, -1,  1,  1,  1,  2,  3, -1,  3,  1,  1, -1,  1,\n",
       "        1,  1,  0,  0,  3,  1,  0,  2,  0,  3, -1,  3,  1,  3,  0,  3,  3,\n",
       "        0,  3,  0,  1,  1,  2,  3,  1,  2,  1,  2,  3,  1,  1,  2,  2,  3,\n",
       "        1,  0,  1,  3,  0,  3,  3,  0,  0,  2,  3,  6,  1,  3,  3,  2,  6,\n",
       "        1,  0,  1,  3,  4,  1, -1,  3,  2,  0,  2,  3,  2,  2,  1,  3,  3,\n",
       "        0,  3,  2,  1,  0,  2,  2,  1,  0,  1,  2, -1,  2,  3,  0,  6,  2,\n",
       "        3,  1,  0,  1,  1,  4,  3,  2,  3,  1,  4,  1,  3,  2,  1,  3,  2,\n",
       "        2,  2,  3,  3,  1,  1,  1, -1,  1,  0,  1,  0, -1,  0,  1,  1,  1,\n",
       "        2,  1,  0,  2,  1,  0,  0, -1,  0,  1,  2,  1,  1,  0,  0,  6,  0,\n",
       "        1,  0,  1,  1, -1,  3, -1,  1,  2,  0,  3,  6,  0,  1,  3,  1,  2,\n",
       "        0,  2,  0,  0,  1,  3,  0,  5,  1,  3,  0,  0,  3,  2,  2,  1,  1,\n",
       "        3,  3,  2,  2,  1,  1,  0,  2, -1,  1,  3,  3,  1,  3,  3,  0,  2,\n",
       "        1,  3,  0,  3,  3,  2, -1, -1,  1,  2,  2,  1,  1,  1,  1,  2,  0,\n",
       "        1,  1,  5,  1,  1,  1,  3,  3,  1,  0,  4,  2,  1,  2,  2,  1,  1,\n",
       "       -1,  2,  1,  3,  4,  1,  1,  1,  2,  3,  1,  0,  0,  1,  1,  3,  2,\n",
       "        0,  3,  3,  1,  1,  3,  2,  1,  1,  1, -1,  1,  3,  3,  1,  1,  0,\n",
       "        6,  1,  3,  3,  1,  2,  2,  3,  1,  3,  3,  1,  1,  2,  1,  3,  0,\n",
       "        1,  1,  3,  1,  0,  0,  1,  2,  3,  1,  1,  3,  2,  0,  0, -1,  3,\n",
       "        3,  3,  1,  1,  0,  3,  3,  3,  1,  0,  0,  3,  1,  1,  1,  1,  2,\n",
       "        1,  3,  3,  1,  0,  1,  0,  3,  2,  3,  1,  3,  2,  1,  2,  1,  2,\n",
       "        3,  1,  6,  0,  2,  3,  3,  1,  2, -1,  1,  0,  1,  3,  0,  0,  0,\n",
       "        2,  1, -1,  1,  1,  1,  1,  0,  2,  2,  2,  3, -1,  3,  3,  1,  3,\n",
       "       -1,  3,  3,  0,  2,  1,  1,  0,  2,  3,  1,  1,  2,  1,  2,  4,  3,\n",
       "        3,  1,  1,  1,  2,  1,  1,  2,  3,  1,  1,  0,  3,  4,  0,  6, -1,\n",
       "        2,  2,  0, -1,  1, -1,  1, -1,  2,  1,  1,  3,  0,  1,  1,  3,  1,\n",
       "        2,  1,  2,  3,  0,  1,  2,  0,  3,  1,  0,  1, -1,  1,  3, -1,  2,\n",
       "        3,  0,  1,  0,  0,  3,  3,  0,  0,  0,  3,  2,  1,  2,  1,  2,  0,\n",
       "        1,  0,  3,  6,  3,  2,  2,  1,  3, -1,  1,  1,  0, -1,  0,  0,  1,\n",
       "        3,  3,  6,  6,  1,  1,  1,  1,  1,  1,  0,  1,  3,  1,  3,  0,  1,\n",
       "        0,  1,  0,  0,  1,  3,  0, -1,  2,  1,  1,  0,  1,  1,  1,  1,  3,\n",
       "        6,  2,  0,  3,  0,  0,  0,  3,  0,  2,  3,  0,  3,  3,  0,  3,  6,\n",
       "        3, -1,  1,  1,  6,  3,  1,  0,  0,  2,  3,  3, -1,  0,  0,  3,  2,\n",
       "        1, -1,  1,  0, -1,  1,  3,  1,  1,  3, -1,  1,  1,  1,  0,  3, -1,\n",
       "       -1, -1,  1,  3,  3,  3,  0,  0,  0,  2,  3,  0,  2,  2,  3,  1,  2,\n",
       "        3,  1, -1,  1,  3,  3,  2,  1, -1,  1,  3,  1,  0,  0,  3,  2,  3,\n",
       "        3,  3,  1,  2,  0,  6,  3,  0,  1,  6,  1,  0, -1,  1,  1,  1,  3,\n",
       "        3, -1,  3,  0,  1,  1,  2,  3,  1,  3,  0,  3, -1,  2,  1,  3,  0,\n",
       "        1,  1,  2,  2,  0, -1,  0, -1,  3,  1,  1,  1,  0,  2],\n",
       "      dtype=int64)"
      ]
     },
     "execution_count": 68,
     "metadata": {},
     "output_type": "execute_result"
    }
   ],
   "source": [
    "dbscan.labels_"
   ]
  },
  {
   "cell_type": "markdown",
   "metadata": {},
   "source": [
    "Label = -1 if the instance is considered an anomaly."
   ]
  },
  {
   "cell_type": "markdown",
   "metadata": {},
   "source": [
    "Note that DBSCAN does not have a `predict()` method, but we can use other classifiers with it:"
   ]
  },
  {
   "cell_type": "code",
   "execution_count": 69,
   "metadata": {},
   "outputs": [
    {
     "data": {
      "text/plain": [
       "KNeighborsClassifier(algorithm='auto', leaf_size=30, metric='minkowski',\n",
       "                     metric_params=None, n_jobs=None, n_neighbors=50, p=2,\n",
       "                     weights='uniform')"
      ]
     },
     "execution_count": 69,
     "metadata": {},
     "output_type": "execute_result"
    }
   ],
   "source": [
    "from sklearn.neighbors import KNeighborsClassifier\n",
    "\n",
    "knn = KNeighborsClassifier(n_neighbors=50)\n",
    "knn.fit(dbscan.components_, dbscan.labels_[dbscan.core_sample_indices_])"
   ]
  },
  {
   "cell_type": "markdown",
   "metadata": {},
   "source": [
    "### Other clustering algorithms\n",
    "\n",
    "More clustering algorithms and how they work:\n",
    "\n",
    "* **Agglomerative clustering**: at each iteration agglomerative clustering connects the nearest pair of clusters (starting with individual instances)  \n",
    "\n",
    "* **Birch**: it builds a tree structure during training containing just enough information to quickly assign each new instance to a cluster, without having to store all the instances in the tree  \n",
    "\n",
    "* **Mean-shift**: it works by placing a circle centered on each instance, then for each circle it computes the mean of all the instances located within it, and it shifts the circle so that it is centered on the mean. Next, it iterates this mean-shift step until all the circles stop moving (i.e., until each of them is centered on the mean of the instances it contains)  \n",
    "\n",
    "* **Affinity propagation**: instances vote for similar instances to be their representatives, and once the algorithm converges, each representative and its voters form a cluster   \n",
    "\n",
    "* **Spectral clustering**: takes a similarity matrix between the instances and creates a low-dimensional embedding from it (i.e., it reduces its dimension‐ ality), then it uses another clustering algorithm in this low-dimensional space (Scikit-Learn’s implementation uses K-Means)\n",
    "\n",
    "Brief overview of their pros and cons:\n",
    "\n",
    "Algorithm    | Pros          | Cons\n",
    "------------ | ------------- | -------------\n",
    "**Agglomerative clustering** | Scales very well to large numbers of instances or clusters | Need a connectivity matrix to scale well\n",
    "| Captures clusters of various shapes | \n",
    "| Produces flexible and informative tree | \n",
    "| Can be used with any pairwise distance | \n",
    "**Birch** | Designed specifically for large datasets | Work best with few features (<20)\n",
    "| Faster than K-means |\n",
    "**Mean-shift** |  It can find any number of clusters of any shape | Tends to split clusters irregularly when they have internal density variations \n",
    "| Only one hyperparameter (radius of the circles, i.e. bandwidth) | $O(m^2)$\n",
    "**Affinity propagation** | Can detect any number of clusters of different sizes | $O(m^2)$\n",
    "**Spectral clustering** | Can capture complex cluster structures | Does not scale well \n",
    "| Can be used to cut graphs (e.g. to identify clusters of friends on a social network) | Does not behave well with clusters of different sizes"
   ]
  },
  {
   "cell_type": "markdown",
   "metadata": {},
   "source": [
    "### Gaussian Mixtures\n",
    "\n",
    "A **Gaussian mixture model** (GMM) is a probabilistic model that assumes that the instances were generated from a mixture of several Gaussian distributions whose parameters are unknown.\n",
    "\n",
    "There are several GMM variants. In the most simple, we need to know in advance the number $k$ of gaussian distributions. The dataset $X$ is then assumed to have been generated through:\n",
    "\n",
    "* Picking a random cluster for each instance. The probability of choosing a cluster is defined by its weight. \n",
    "* After the instance has been assigned to the cluster, its location is sampled randomly from the Gaussian distribution. \n",
    "\n",
    "Let's use a diagram to explain this model more rigorously:"
   ]
  },
  {
   "cell_type": "markdown",
   "metadata": {},
   "source": [
    "![GMM](images/9.1_GMM.png)"
   ]
  },
  {
   "cell_type": "markdown",
   "metadata": {},
   "source": [
    "Diagram: \n",
    "* **Random variables** = circles \n",
    "* **Fixed values** = squares\n",
    "* **Plates** (content repeated several times) = large rectangles\n",
    "* **Plates repetition** = bottom right numbers ($m$ and $k$)\n",
    "\n",
    "Process:\n",
    "* Each variable $z^{(i)}$ is drawn from the _categorical distribution_ with weights $\\phi$ \n",
    "* Each variable $x^{(i)}$ is drawn from the normal distribution with the mean and covariance matrix defined by its cluster $z^{(i)}$\n",
    "* Solid arrows represent conditional dependencies\n",
    "* The non-solid arrow represent a switch: depending on the value of $z^{(i)}$, the instance $x^{(i)}$ will be sampled from a different Gaussian distribution\n",
    "* Shaded nodes indicate known variables (our random variables $x^{(i)}$ or **observed variables**). In contrast, $z^{(i)}$ are generally referred to as **latent variables**"
   ]
  },
  {
   "cell_type": "markdown",
   "metadata": {},
   "source": [
    "How does it work in code? \n",
    "\n",
    "Given the dataset $X$, we start by estimating the weights $\\phi$ and the distribution parameters $\\mu^{(1)}$ to $\\mu^{(k)}$ and $\\Sigma^{(1)}$ to $\\Sigma^{(k)}$."
   ]
  },
  {
   "cell_type": "code",
   "execution_count": 73,
   "metadata": {},
   "outputs": [
    {
     "data": {
      "text/plain": [
       "GaussianMixture(covariance_type='full', init_params='kmeans', max_iter=100,\n",
       "                means_init=None, n_components=3, n_init=10,\n",
       "                precisions_init=None, random_state=None, reg_covar=1e-06,\n",
       "                tol=0.001, verbose=0, verbose_interval=10, warm_start=False,\n",
       "                weights_init=None)"
      ]
     },
     "execution_count": 73,
     "metadata": {},
     "output_type": "execute_result"
    }
   ],
   "source": [
    "from sklearn.mixture import GaussianMixture\n",
    "\n",
    "gm = GaussianMixture(n_components=3, n_init=10)\n",
    "gm.fit(X)"
   ]
  },
  {
   "cell_type": "code",
   "execution_count": 74,
   "metadata": {},
   "outputs": [
    {
     "data": {
      "text/plain": [
       "array([0.58992626, 0.20389046, 0.20618327])"
      ]
     },
     "execution_count": 74,
     "metadata": {},
     "output_type": "execute_result"
    }
   ],
   "source": [
    "gm.weights_"
   ]
  },
  {
   "cell_type": "code",
   "execution_count": 75,
   "metadata": {},
   "outputs": [
    {
     "data": {
      "text/plain": [
       "array([[ 0.50343194,  0.24946437],\n",
       "       [ 1.74701114, -0.05963289],\n",
       "       [-0.74068587,  0.565968  ]])"
      ]
     },
     "execution_count": 75,
     "metadata": {},
     "output_type": "execute_result"
    }
   ],
   "source": [
    "gm.means_"
   ]
  },
  {
   "cell_type": "code",
   "execution_count": 76,
   "metadata": {},
   "outputs": [
    {
     "data": {
      "text/plain": [
       "array([[[ 0.170685  , -0.10154005],\n",
       "        [-0.10154005,  0.28660015]],\n",
       "\n",
       "       [[ 0.04901551,  0.0596332 ],\n",
       "        [ 0.0596332 ,  0.089247  ]],\n",
       "\n",
       "       [[ 0.05481343,  0.06252493],\n",
       "        [ 0.06252493,  0.08706628]]])"
      ]
     },
     "execution_count": 76,
     "metadata": {},
     "output_type": "execute_result"
    }
   ],
   "source": [
    "gm.covariances_"
   ]
  },
  {
   "cell_type": "markdown",
   "metadata": {},
   "source": [
    "This relies on **Expectation-Maximization** (EM) which initialize clusters randomly, repeats two steps until convergence first assigning instances to clusters (this is called the _expectation_\n",
    "step) then updating the clusters (this is called the _maximization_ step).\n",
    "\n",
    "EM uses soft cluster assignments, with the probabilities that certain instances belong to a certain class called **responsibilities**. \n",
    "\n",
    "EM can be thought as a generalization of K-means, and just like K-means, it may also not converge: "
   ]
  },
  {
   "cell_type": "code",
   "execution_count": 77,
   "metadata": {},
   "outputs": [
    {
     "data": {
      "text/plain": [
       "True"
      ]
     },
     "execution_count": 77,
     "metadata": {},
     "output_type": "execute_result"
    }
   ],
   "source": [
    "gm.converged_"
   ]
  },
  {
   "cell_type": "code",
   "execution_count": 78,
   "metadata": {},
   "outputs": [
    {
     "data": {
      "text/plain": [
       "15"
      ]
     },
     "execution_count": 78,
     "metadata": {},
     "output_type": "execute_result"
    }
   ],
   "source": [
    "gm.n_iter_"
   ]
  },
  {
   "cell_type": "markdown",
   "metadata": {},
   "source": [
    "That took a while! We can now assign instances using hard or soft clustering:"
   ]
  },
  {
   "cell_type": "code",
   "execution_count": 79,
   "metadata": {},
   "outputs": [
    {
     "data": {
      "text/plain": [
       "array([0, 1, 2, 1, 0, 0, 0, 0, 0, 0, 0, 0, 0, 0, 0, 2, 0, 2, 2, 1, 0, 0,\n",
       "       0, 1, 2, 2, 0, 0, 2, 0, 0, 1, 0, 1, 0, 0, 0, 2, 0, 0, 0, 2, 0, 0,\n",
       "       0, 0, 1, 0, 0, 2, 0, 1, 0, 0, 0, 2, 0, 0, 0, 0, 1, 0, 2, 0, 0, 0,\n",
       "       1, 0, 1, 0, 0, 0, 1, 0, 0, 0, 0, 0, 0, 0, 1, 1, 1, 2, 0, 2, 1, 0,\n",
       "       0, 2, 2, 0, 0, 0, 0, 1, 0, 2, 0, 2, 0, 2, 0, 1, 0, 0, 1, 2, 0, 1,\n",
       "       2, 0, 0, 0, 0, 1, 2, 0, 0, 1, 0, 0, 0, 0, 2, 1, 1, 0, 0, 0, 1, 2,\n",
       "       0, 2, 1, 0, 0, 0, 0, 1, 0, 0, 0, 0, 0, 2, 1, 0, 0, 1, 0, 2, 0, 0,\n",
       "       0, 2, 0, 1, 0, 0, 2, 2, 0, 0, 0, 0, 1, 0, 1, 0, 0, 2, 0, 0, 0, 0,\n",
       "       2, 2, 0, 1, 0, 1, 0, 1, 1, 1, 0, 1, 1, 0, 2, 1, 0, 0, 1, 1, 1, 0,\n",
       "       0, 2, 0, 0, 0, 0, 2, 0, 0, 0, 2, 0, 2, 1, 0, 0, 0, 0, 2, 0, 0, 0,\n",
       "       1, 0, 0, 2, 1, 0, 2, 1, 0, 2, 1, 0, 0, 2, 2, 2, 0, 0, 2, 0, 0, 0,\n",
       "       1, 0, 0, 0, 2, 0, 1, 0, 0, 0, 0, 0, 0, 0, 0, 0, 0, 0, 0, 2, 1, 0,\n",
       "       0, 0, 0, 1, 2, 0, 0, 0, 0, 0, 0, 0, 0, 0, 0, 0, 2, 0, 1, 1, 1, 0,\n",
       "       0, 2, 2, 0, 0, 1, 1, 0, 0, 1, 0, 0, 0, 0, 0, 0, 0, 0, 0, 2, 2, 2,\n",
       "       2, 1, 2, 1, 0, 0, 0, 0, 2, 0, 0, 0, 2, 1, 0, 2, 2, 0, 1, 0, 0, 0,\n",
       "       1, 1, 1, 0, 0, 0, 1, 0, 0, 0, 1, 0, 1, 1, 1, 2, 0, 0, 2, 2, 0, 0,\n",
       "       1, 0, 0, 2, 0, 2, 1, 0, 0, 0, 0, 0, 2, 2, 0, 0, 2, 0, 0, 0, 0, 2,\n",
       "       2, 2, 1, 1, 0, 0, 1, 0, 1, 0, 0, 0, 2, 0, 1, 0, 0, 1, 0, 1, 2, 2,\n",
       "       0, 0, 0, 0, 2, 0, 0, 0, 2, 0, 0, 0, 2, 1, 0, 0, 1, 0, 0, 1, 1, 0,\n",
       "       0, 0, 0, 0, 0, 0, 0, 2, 1, 0, 0, 0, 2, 0, 0, 0, 1, 0, 0, 0, 0, 2,\n",
       "       0, 0, 1, 0, 0, 0, 1, 0, 0, 2, 1, 0, 0, 2, 0, 0, 1, 0, 0, 0, 2, 1,\n",
       "       2, 2, 0, 0, 0, 0, 2, 0, 0, 0, 0, 2, 0, 0, 0, 0, 0, 0, 2, 0, 2, 0,\n",
       "       2, 1, 2, 1, 0, 1, 0, 2, 2, 0, 0, 1, 0, 2, 1, 1, 0, 1, 2, 0, 2, 2,\n",
       "       1, 1, 0, 1, 2, 1, 2, 0, 0, 0, 0, 2, 0, 1, 0, 0, 1, 2, 0, 2, 0, 1,\n",
       "       0, 1, 1, 2, 0, 1, 0, 2, 0, 1, 1, 0, 0, 0, 2, 0, 0, 0, 0, 0, 2, 2,\n",
       "       1, 0, 0, 2, 0, 0, 2, 0, 0, 1, 0, 0, 0, 1, 0, 0, 0, 0, 2, 0, 0, 0,\n",
       "       2, 2, 0, 0, 0, 1, 2, 2, 0, 2, 0, 2, 0, 0, 0, 1, 1, 0, 2, 0, 0, 0,\n",
       "       2, 2, 0, 0, 0, 1, 0, 2, 2, 0, 0, 2, 1, 1, 2, 2, 0, 0, 1, 0, 0, 0,\n",
       "       2, 0, 0, 2, 0, 2, 0, 2, 0, 0, 0, 0, 1, 0, 2, 0, 0, 2, 0, 0, 0, 2,\n",
       "       0, 0, 0, 2, 0, 2, 0, 1, 2, 0, 0, 2, 1, 1, 0, 0, 0, 2, 2, 0, 0, 1,\n",
       "       1, 0, 0, 0, 0, 0, 0, 1, 0, 0, 0, 0, 1, 1, 0, 0, 2, 2, 0, 0, 2, 0,\n",
       "       0, 0, 1, 2, 1, 0, 0, 0, 2, 0, 0, 2, 0, 0, 0, 0, 0, 0, 1, 0, 0, 0,\n",
       "       0, 0, 2, 0, 1, 0, 0, 1, 1, 1, 0, 2, 2, 0, 0, 2, 2, 1, 0, 0, 0, 0,\n",
       "       1, 0, 0, 0, 0, 0, 0, 0, 1, 0, 2, 2, 1, 0, 0, 0, 0, 0, 2, 0, 1, 0,\n",
       "       0, 2, 0, 2, 0, 0, 0, 0, 0, 2, 2, 1, 0, 1, 1, 0, 0, 0, 0, 1, 2, 2,\n",
       "       0, 2, 0, 0, 2, 2, 0, 1, 2, 2, 0, 2, 0, 2, 0, 0, 1, 2, 0, 1, 0, 2,\n",
       "       1, 0, 1, 0, 0, 1, 0, 0, 1, 2, 1, 1, 0, 0, 1, 1, 1, 0, 0, 2, 0, 2,\n",
       "       0, 1, 2, 1, 0, 0, 0, 0, 0, 2, 0, 1, 0, 2, 1, 1, 1, 1, 2, 0, 0, 1,\n",
       "       0, 2, 2, 2, 0, 2, 0, 1, 0, 0, 0, 0, 1, 2, 1, 0, 1, 1, 0, 0, 1, 1,\n",
       "       0, 2, 2, 1, 2, 0, 0, 2, 0, 0, 0, 1, 0, 1, 1, 1, 0, 1, 0, 0, 1, 0,\n",
       "       0, 1, 0, 0, 0, 0, 0, 2, 1, 0, 2, 1, 1, 0, 0, 0, 1, 1, 1, 0, 0, 2,\n",
       "       0, 0, 1, 0, 2, 0, 0, 0, 0, 0, 2, 2, 2, 1, 0, 1, 0, 2, 0, 0, 0, 0,\n",
       "       1, 1, 1, 0, 0, 1, 0, 0, 0, 0, 0, 0, 2, 2, 2, 0, 0, 0, 2, 0, 2, 0,\n",
       "       2, 1, 1, 0, 0, 0, 0, 0, 2, 0, 1, 1, 0, 1, 0, 1, 2, 1, 0, 0, 2, 0,\n",
       "       0, 0, 0, 0, 1, 2, 2, 0, 0, 2, 0, 1, 0, 2, 0, 0, 0, 1, 0, 2, 0, 0,\n",
       "       1, 1, 1, 1, 0, 0, 2, 2, 1, 0], dtype=int64)"
      ]
     },
     "execution_count": 79,
     "metadata": {},
     "output_type": "execute_result"
    }
   ],
   "source": [
    "gm.predict(X) #hard"
   ]
  },
  {
   "cell_type": "code",
   "execution_count": 80,
   "metadata": {},
   "outputs": [
    {
     "data": {
      "text/plain": [
       "array([[9.99999985e-001, 1.48426455e-008, 7.43438072e-127],\n",
       "       [1.48779942e-004, 9.99851220e-001, 1.22383565e-183],\n",
       "       [1.97398904e-004, 7.03346705e-211, 9.99802601e-001],\n",
       "       ...,\n",
       "       [9.16732532e-003, 1.51525827e-213, 9.90832675e-001],\n",
       "       [4.82020053e-003, 9.95179799e-001, 1.76295735e-199],\n",
       "       [1.00000000e+000, 7.41447484e-051, 2.83589281e-046]])"
      ]
     },
     "execution_count": 80,
     "metadata": {},
     "output_type": "execute_result"
    }
   ],
   "source": [
    "gm.predict_proba(X) #soft"
   ]
  },
  {
   "cell_type": "markdown",
   "metadata": {},
   "source": [
    "When there are many dimensions, or many clusters, or few instances, EM can struggle to converge to the optimal solution.\n",
    "\n",
    "One way to \"help the algorithm\" is to limit the number of parameters to learn, e.g. limiting the range of shapes and orientations that the clusters can have. This can be achieved by imposing constraints on the covariance matrices. To do this, just set the covariance_type hyperparameter to one of the following values:\n",
    "\n",
    "* `spherical`: spherical clusters, different diameters (variances) - $O(kmn)$\n",
    "* `diag`: any ellipsoidal shape of any size, but the ellipsoid’s axes must be parallel to the coordinate axes (diagonal covariance matrix) - $O(kmn)$\n",
    "* `tied`: same ellipsoidal shape, size and orientation (same covariance matrix) - $O(kmn^2 + kn^3)$\n",
    "* `full`: default - $O(kmn^2 + kn^3)$"
   ]
  },
  {
   "cell_type": "markdown",
   "metadata": {},
   "source": [
    "### Anomaly detection using Gaussian Mixtures\n",
    "\n",
    "Anomaly detection (also called _outlier detection_) is the task of detecting instances that deviate strongly from the norm.\n",
    "\n",
    "Using GMM for anomaly detection means considering any instance in a low-density region an anomaly, after defining an appropriate threshold. \n",
    "\n",
    "In code:"
   ]
  },
  {
   "cell_type": "code",
   "execution_count": 81,
   "metadata": {},
   "outputs": [],
   "source": [
    "densities = gm.score_samples(X)\n",
    "density_threshold = np.percentile(densities, 4) # 4th percentile threshold\n",
    "anomalies = X[densities < density_threshold]"
   ]
  },
  {
   "cell_type": "markdown",
   "metadata": {},
   "source": [
    "#### Selecting the number of clusters for GMM\n",
    "\n",
    "Unfortunately, inertia / silhouette scores are not useful with non spherical / different size clusters. Instead, we will find the model that minimizes a certain _theoretical information criterion_, for example:\n",
    "\n",
    "1. **Bayesian information criterion** (BIC) = $log(m)p - 2log(\\hat{L})$\n",
    "\n",
    "2. **Akaike information criterion** (AIC) = $2p - 2log(\\hat{L})$\n",
    "\n",
    "$m$ = number of instances  \n",
    "$p$ = number of parameters learned by the model  \n",
    "$\\hat{L}$ = maximized value of the _likelihood function_ of the model  "
   ]
  },
  {
   "cell_type": "markdown",
   "metadata": {},
   "source": [
    "Given a statistical model with parameters $\\theta$:\n",
    "\n",
    "* Probability = how plausible a future outcome $x$ is (knowing $\\theta$)\n",
    "* Likelihood = how plausible a particular set of parameter values $\\theta$ are (knowing $x$) "
   ]
  },
  {
   "cell_type": "markdown",
   "metadata": {},
   "source": [
    "**Note**: It is important to understand that the likelihood function is not a probability distribution: if you integrate a probability distribution over all possible values of $x$, you always get 1, but if you integrate the likelihood function over all possible values of $\\theta$, the result can be any positive value."
   ]
  },
  {
   "cell_type": "markdown",
   "metadata": {},
   "source": [
    "Given a dataset $X$, a common task is to try to estimate the most likely values for the model parameters. To do this, we will need to maximize the likelihood function given $X$. "
   ]
  },
  {
   "cell_type": "markdown",
   "metadata": {},
   "source": [
    "#### Bayesian Gaussian Mixture Models\n",
    "\n",
    "Rather than manually searching for the optimal number of clusters, it is possible to use the `BayesianGaussianMixture` class which can give weights to (~)0 to unnecessary clusters. \n",
    "\n",
    "Just set `n_components` (number of clusters) > what we expect to be the optimal number of clusters\n",
    "\n",
    "Example:"
   ]
  },
  {
   "cell_type": "code",
   "execution_count": 82,
   "metadata": {},
   "outputs": [],
   "source": [
    "from sklearn.mixture import BayesianGaussianMixture\n",
    "\n",
    "bgm = BayesianGaussianMixture(n_components=10, n_init=10, random_state=42)"
   ]
  },
  {
   "cell_type": "code",
   "execution_count": 83,
   "metadata": {},
   "outputs": [
    {
     "data": {
      "text/plain": [
       "BayesianGaussianMixture(covariance_prior=None, covariance_type='full',\n",
       "                        degrees_of_freedom_prior=None, init_params='kmeans',\n",
       "                        max_iter=100, mean_precision_prior=None,\n",
       "                        mean_prior=None, n_components=10, n_init=10,\n",
       "                        random_state=42, reg_covar=1e-06, tol=0.001, verbose=0,\n",
       "                        verbose_interval=10, warm_start=False,\n",
       "                        weight_concentration_prior=None,\n",
       "                        weight_concentration_prior_type='dirichlet_process')"
      ]
     },
     "execution_count": 83,
     "metadata": {},
     "output_type": "execute_result"
    }
   ],
   "source": [
    "bgm.fit(X)"
   ]
  },
  {
   "cell_type": "code",
   "execution_count": 84,
   "metadata": {},
   "outputs": [
    {
     "data": {
      "text/plain": [
       "array([0.15, 0.1 , 0.12, 0.12, 0.12, 0.15, 0.11, 0.13, 0.  , 0.  ])"
      ]
     },
     "execution_count": 84,
     "metadata": {},
     "output_type": "execute_result"
    }
   ],
   "source": [
    "np.round(bgm.weights_, 2)"
   ]
  },
  {
   "cell_type": "markdown",
   "metadata": {},
   "source": [
    "In this model, the cluster parameters (including the weights, means and covariance matrices) are not treated as fixed model parameters anymore, but as latent random variables, like the cluster assignments."
   ]
  },
  {
   "cell_type": "markdown",
   "metadata": {},
   "source": [
    "![BGMM](images/9.1_BGMM.png)"
   ]
  },
  {
   "cell_type": "markdown",
   "metadata": {},
   "source": [
    "Prior knowledge about the latent variables **$z$** can be encoded in a probability distribution $p(z)$ called the **prior**."
   ]
  },
  {
   "cell_type": "markdown",
   "metadata": {},
   "source": [
    "We can update our probabilities using a renowned formula (and one of my favourite equations), the **Bayes' theorem**:\n",
    "\n",
    "$\\displaystyle p(z|x) = Posterior = \\frac{\\text{Likelihood x Prior}}{Evidence} = \\frac{p(X|z)p(z)}{p(X)}$"
   ]
  },
  {
   "cell_type": "markdown",
   "metadata": {},
   "source": [
    "Unfortunately, in our equation the denominator is hard to obtain:"
   ]
  },
  {
   "cell_type": "markdown",
   "metadata": {},
   "source": [
    "$p(x) = \\int p(X|z)p(z)dz$"
   ]
  },
  {
   "cell_type": "markdown",
   "metadata": {},
   "source": [
    "There are several approaches to solve this, one of them being _variational inference_, which picks a family of distributions $q(z;\\lambda)$ where $\\lambda$ are the _variational parameters_ which are optimized to approximate $p(z|X)$."
   ]
  },
  {
   "cell_type": "markdown",
   "metadata": {},
   "source": [
    "Gaussian mixture models work great on clusters with ellipsoidal shapes, but not so well on more irregular shapes. "
   ]
  },
  {
   "cell_type": "markdown",
   "metadata": {},
   "source": [
    "### Other Anomaly Detection and Novelty Detection Algorithms"
   ]
  },
  {
   "cell_type": "markdown",
   "metadata": {},
   "source": [
    "* **Fast-MCD** (Minimum Covariance Determinant): useful for outlier detection. It assumes that the dataset has been generated by a Gaussian distribution, with outliers not from the same distribution. When it estimates the parameters of the Gaussian distribution it ignores instances that are most likely outliers.\n",
    "\n",
    "* **Isolation forest**: especially efficient in high-dimensional datasets. It builds a Random Forest in which every Decision Tree grows randomly: at each node, it picks a feature randomly, then it picks a random threshold value (between min and max) to split the dataset in two. It keeps splitting the dataset down to individual instances, and identifies outliers as instances for which less steps are needed to get to \"isolation\".\n",
    "\n",
    "* **Local outlier factor** (LOF): it compares the density of instances around a given instance to the density around its neighbors. An anomaly is often more isolated than its $k$ nearest neighbors.\n",
    "\n",
    "* **One-class SVM**: better suited for novelty detection. Since we just have one class of instances, the one-class SVM algorithm tries to separate the instances in high-dimensional space from the origin, finding a small region that encompasses all the instances. If a new instance does not fall within this region, it is an anomaly. Works well with high-dimensional datasets but it does not scale very well to large datasets.  "
   ]
  }
 ],
 "metadata": {
  "kernelspec": {
   "display_name": "Python 3",
   "language": "python",
   "name": "python3"
  },
  "language_info": {
   "codemirror_mode": {
    "name": "ipython",
    "version": 3
   },
   "file_extension": ".py",
   "mimetype": "text/x-python",
   "name": "python",
   "nbconvert_exporter": "python",
   "pygments_lexer": "ipython3",
   "version": "3.7.4"
  }
 },
 "nbformat": 4,
 "nbformat_minor": 4
}
